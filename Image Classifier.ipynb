{
 "cells": [
  {
   "cell_type": "code",
   "execution_count": 1,
   "metadata": {},
   "outputs": [],
   "source": [
    "# an open-source platform for machine learning.\n",
    "import tensorflow as tf\n",
    "# Imports specific modules (datasets, layers, and models) from TensorFlow's Keras API,\n",
    "# which is used for building and training neural networks.\n",
    "from tensorflow.keras import datasets, layers, models\n",
    "# Imports the pyplot module from matplotlib, a popular plotting library in Python, for visualizing data and results.\n",
    "import matplotlib.pyplot as plt\n",
    "# os module, which provides a way to interact with the operating system, such as checking if a file exists.\n",
    "import os"
   ]
  },
  {
   "cell_type": "code",
   "execution_count": 8,
   "metadata": {},
   "outputs": [],
   "source": [
    "# Load and preprocess data\n",
    "# Loads the CIFAR-10 dataset, which consists of 60,000 32x32 color images in 10 different classes.\n",
    "# The dataset is split into training data (train_images and train_labels) and test data (test_images and test_labels).\n",
    "(train_images, train_labels), (test_images, test_labels) = datasets.cifar10.load_data()\n",
    "# Normalizes the pixel values of the images by dividing them by 255.0 to scale them between 0 and 1.\n",
    "# This is important for neural network training.\n",
    "train_images, test_images = train_images / 255.0, test_images / 255.0"
   ]
  },
  {
   "cell_type": "code",
   "execution_count": 3,
   "metadata": {},
   "outputs": [],
   "source": [
    "#\n",
    "class_names = [\n",
    "    \"airplane\",\n",
    "    \"automobile\",\n",
    "    \"bird\",\n",
    "    \"cat\",\n",
    "    \"deer\",\n",
    "    \"dog\",\n",
    "    \"frog\",\n",
    "    \"horse\",\n",
    "    \"ship\",\n",
    "    \"truck\",\n",
    "]"
   ]
  },
  {
   "cell_type": "code",
   "execution_count": 10,
   "metadata": {},
   "outputs": [],
   "source": [
    "# Defines the file path where the trained model will be saved or loaded from.\n",
    "# The file extension .h5 is used for saving Keras models.\n",
    "model_path = \"cifar10_cnn_model.h5\""
   ]
  },
  {
   "cell_type": "code",
   "execution_count": 11,
   "metadata": {},
   "outputs": [
    {
     "name": "stderr",
     "output_type": "stream",
     "text": [
      "c:\\Users\\MHDAH\\AppData\\Local\\Programs\\Python\\Python312\\Lib\\site-packages\\keras\\src\\layers\\convolutional\\base_conv.py:107: UserWarning: Do not pass an `input_shape`/`input_dim` argument to a layer. When using Sequential models, prefer using an `Input(shape)` object as the first layer in the model instead.\n",
      "  super().__init__(activity_regularizer=activity_regularizer, **kwargs)\n"
     ]
    },
    {
     "name": "stdout",
     "output_type": "stream",
     "text": [
      "Epoch 1/10\n",
      "\u001b[1m1563/1563\u001b[0m \u001b[32m━━━━━━━━━━━━━━━━━━━━\u001b[0m\u001b[37m\u001b[0m \u001b[1m46s\u001b[0m 26ms/step - accuracy: 0.3570 - loss: 1.7312 - val_accuracy: 0.5610 - val_loss: 1.2309\n",
      "Epoch 2/10\n",
      "\u001b[1m1563/1563\u001b[0m \u001b[32m━━━━━━━━━━━━━━━━━━━━\u001b[0m\u001b[37m\u001b[0m \u001b[1m38s\u001b[0m 24ms/step - accuracy: 0.5858 - loss: 1.1703 - val_accuracy: 0.6436 - val_loss: 1.0074\n",
      "Epoch 3/10\n",
      "\u001b[1m1563/1563\u001b[0m \u001b[32m━━━━━━━━━━━━━━━━━━━━\u001b[0m\u001b[37m\u001b[0m \u001b[1m36s\u001b[0m 23ms/step - accuracy: 0.6586 - loss: 0.9709 - val_accuracy: 0.6702 - val_loss: 0.9489\n",
      "Epoch 4/10\n",
      "\u001b[1m1563/1563\u001b[0m \u001b[32m━━━━━━━━━━━━━━━━━━━━\u001b[0m\u001b[37m\u001b[0m \u001b[1m38s\u001b[0m 24ms/step - accuracy: 0.7006 - loss: 0.8514 - val_accuracy: 0.6741 - val_loss: 0.9356\n",
      "Epoch 5/10\n",
      "\u001b[1m1563/1563\u001b[0m \u001b[32m━━━━━━━━━━━━━━━━━━━━\u001b[0m\u001b[37m\u001b[0m \u001b[1m34s\u001b[0m 22ms/step - accuracy: 0.7247 - loss: 0.7883 - val_accuracy: 0.7006 - val_loss: 0.8692\n",
      "Epoch 6/10\n",
      "\u001b[1m1563/1563\u001b[0m \u001b[32m━━━━━━━━━━━━━━━━━━━━\u001b[0m\u001b[37m\u001b[0m \u001b[1m33s\u001b[0m 21ms/step - accuracy: 0.7459 - loss: 0.7188 - val_accuracy: 0.7159 - val_loss: 0.8301\n",
      "Epoch 7/10\n",
      "\u001b[1m1563/1563\u001b[0m \u001b[32m━━━━━━━━━━━━━━━━━━━━\u001b[0m\u001b[37m\u001b[0m \u001b[1m34s\u001b[0m 21ms/step - accuracy: 0.7665 - loss: 0.6645 - val_accuracy: 0.7114 - val_loss: 0.8412\n",
      "Epoch 8/10\n",
      "\u001b[1m1563/1563\u001b[0m \u001b[32m━━━━━━━━━━━━━━━━━━━━\u001b[0m\u001b[37m\u001b[0m \u001b[1m33s\u001b[0m 21ms/step - accuracy: 0.7835 - loss: 0.6204 - val_accuracy: 0.7136 - val_loss: 0.8425\n",
      "Epoch 9/10\n",
      "\u001b[1m1563/1563\u001b[0m \u001b[32m━━━━━━━━━━━━━━━━━━━━\u001b[0m\u001b[37m\u001b[0m \u001b[1m33s\u001b[0m 21ms/step - accuracy: 0.7959 - loss: 0.5779 - val_accuracy: 0.7179 - val_loss: 0.8751\n",
      "Epoch 10/10\n",
      "\u001b[1m1563/1563\u001b[0m \u001b[32m━━━━━━━━━━━━━━━━━━━━\u001b[0m\u001b[37m\u001b[0m \u001b[1m33s\u001b[0m 21ms/step - accuracy: 0.8111 - loss: 0.5333 - val_accuracy: 0.7217 - val_loss: 0.8455\n"
     ]
    },
    {
     "name": "stderr",
     "output_type": "stream",
     "text": [
      "WARNING:absl:You are saving your model as an HDF5 file via `model.save()` or `keras.saving.save_model(model)`. This file format is considered legacy. We recommend using instead the native Keras format, e.g. `model.save('my_model.keras')` or `keras.saving.save_model(model, 'my_model.keras')`. \n"
     ]
    },
    {
     "name": "stdout",
     "output_type": "stream",
     "text": [
      "Model saved to disk.\n"
     ]
    }
   ],
   "source": [
    "# Checks if the model file already exists at the specified path.\n",
    "if os.path.exists(model_path):\n",
    "    # Load the model if it exists\n",
    "    model = tf.keras.models.load_model(model_path)\n",
    "    print(\"Model loaded from disk.\")\n",
    "else:\n",
    "    # Build and train the model if it doesn't exist\n",
    "    # Initializes a Sequential model in Keras.The model is defined as a linear stack of layers.\n",
    "    model = models.Sequential(\n",
    "        [\n",
    "            # Adds a 2D convolutional layer with 32 filters,a kernel size of (3, 3),  and ReLU activation.\n",
    "            # The first layer also specifies the input shape (32, 32, 3) for 32x32 RGB images.\n",
    "            layers.Conv2D(32, (3, 3), activation=\"relu\", input_shape=(32, 32, 3)),\n",
    "            # Adds a max-pooling layer with a pool size of (2, 2), reducing the spatial dimensions of the feature maps.\n",
    "            layers.MaxPooling2D((2, 2)),\n",
    "            # Adds another 2D convolutional layer with 64 filters, a kernel size of (3, 3), and ReLU activation.\n",
    "            layers.Conv2D(64, (3, 3), activation=\"relu\"),\n",
    "            # Adds another max-pooling layer to reduce the dimensions further\n",
    "            layers.MaxPooling2D((2, 2)),\n",
    "            # Adds another convolutional layer with 64 filters, a kernel size of (3, 3), and ReLU activation.\n",
    "            layers.Conv2D(64, (3, 3), activation=\"relu\"),\n",
    "            # Flattens the 3D output of the convolutional layers into a 1D array to prepare it for the fully connected (dense) layers.\n",
    "            layers.Flatten(),\n",
    "            # Adds a fully connected (dense) layer with 64 units and ReLU activation.\n",
    "            layers.Dense(64, activation=\"relu\"),\n",
    "            # Adds the final output layer with 10 units (one for each class) without an activation function (since logits will be used).\n",
    "            layers.Dense(10),\n",
    "        ]\n",
    "    )\n",
    "\n",
    "    model.compile(\n",
    "        # Configures the model for training by specifying the optimizer (adam)\n",
    "        optimizer=\"adam\",\n",
    "        # loss function (SparseCategoricalCrossentropy\n",
    "        loss=tf.keras.losses.SparseCategoricalCrossentropy(from_logits=True),\n",
    "        #  and evaluation metric (accuracy).\n",
    "        metrics=[\"accuracy\"],\n",
    "    )\n",
    "    # Trains the model on the training data for 10 epochs while using the test data for validation.\n",
    "    \n",
    "    model.fit(\n",
    "        train_images,\n",
    "        train_labels,\n",
    "        epochs=10,\n",
    "        validation_data=(test_images, test_labels),\n",
    "    )\n",
    "\n",
    "    # Saves the trained model to disk at the specified path\n",
    "    model.save(model_path)\n",
    "    print(\"Model saved to disk.\")"
   ]
  },
  {
   "cell_type": "code",
   "execution_count": 12,
   "metadata": {},
   "outputs": [],
   "source": [
    "# Defines a function classify_image to classify a given image using the trained model.\n",
    "def classify_image(image):\n",
    "    #Adds an extra dimension to the image array to create a batch with a single image, as TensorFlow models expect batches as input.\n",
    "    # Expands the dimensions of the image to match the input shape of the model (1, 32, 32, 3).\n",
    "    img_array = tf.expand_dims(image, 0)  # Create a batch\n",
    "    # Predicts the class probabilities for the image using the trained model.\n",
    "    predictions = model.predict(img_array)\n",
    "    # Finds the index of the class with the highest predicted probability and converts it to a NumPy integer.\n",
    "    predicted_class = tf.argmax(predictions[0]).numpy()\n",
    "    # Returns the name of the predicted class by indexing into the class_names list.\n",
    "    return class_names[predicted_class]"
   ]
  },
  {
   "cell_type": "code",
   "execution_count": 13,
   "metadata": {},
   "outputs": [],
   "source": [
    "\n",
    "# Defines a function to display an image along with its predicted class label and the true class label.\n",
    "def show_image_with_prediction(image, true_label):\n",
    "    # Gets the predicted class label for the given image.\n",
    "    predicted_label = classify_image(image)\n",
    "    # Creates a new figure for plotting.\n",
    "    plt.figure()\n",
    "    # Displays the given image.\n",
    "    plt.imshow(image)\n",
    "    # Sets the title of the plot to show the predicted and true class labels.\n",
    "    plt.title(f\"Predicted: {predicted_label}, True: {true_label}\")\n",
    "    # Hides the axis for a cleaner visualization.\n",
    "    plt.axis(\"off\")\n",
    "    plt.show()"
   ]
  },
  {
   "cell_type": "code",
   "execution_count": 16,
   "metadata": {},
   "outputs": [
    {
     "name": "stdout",
     "output_type": "stream",
     "text": [
      "\u001b[1m1/1\u001b[0m \u001b[32m━━━━━━━━━━━━━━━━━━━━\u001b[0m\u001b[37m\u001b[0m \u001b[1m0s\u001b[0m 110ms/step\n",
      "\u001b[1m1/1\u001b[0m \u001b[32m━━━━━━━━━━━━━━━━━━━━\u001b[0m\u001b[37m\u001b[0m \u001b[1m0s\u001b[0m 56ms/step\n"
     ]
    },
    {
     "data": {
      "image/png": "[encoded data removed]",
      "text/plain": [
       "<Figure size 640x480 with 1 Axes>"
      ]
     },
     "metadata": {},
     "output_type": "display_data"
    }
   ],
   "source": [
    "# Classifies the third image in the test dataset and stores the predicted label.\n",
    "class_pred = classify_image(test_images[1])\n",
    "# Calls the function to display the third test image along with its predicted class label.\n",
    "show_image_with_prediction(test_images[1], class_pred)"
   ]
  }
 ],
 "metadata": {
  "kernelspec": {
   "display_name": "Python 3",
   "language": "python",
   "name": "python3"
  },
  "language_info": {
   "codemirror_mode": {
    "name": "ipython",
    "version": 3
   },
   "file_extension": ".py",
   "mimetype": "text/x-python",
   "name": "python",
   "nbconvert_exporter": "python",
   "pygments_lexer": "ipython3",
   "version": "3.12.5"
  }
 },
 "nbformat": 4,
 "nbformat_minor": 2
}
